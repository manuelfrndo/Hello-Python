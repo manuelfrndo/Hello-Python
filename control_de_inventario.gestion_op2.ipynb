{
  "nbformat": 4,
  "nbformat_minor": 0,
  "metadata": {
    "colab": {
      "provenance": [],
      "authorship_tag": "ABX9TyOV1EQKmHnyesO78e5Xb/3o",
      "include_colab_link": true
    },
    "kernelspec": {
      "name": "python3",
      "display_name": "Python 3"
    },
    "language_info": {
      "name": "python"
    }
  },
  "cells": [
    {
      "cell_type": "markdown",
      "metadata": {
        "id": "view-in-github",
        "colab_type": "text"
      },
      "source": [
        "<a href=\"https://colab.research.google.com/github/manuelfrndo/Hello-Python/blob/main/control_de_inventario.gestion_op2.ipynb\" target=\"_parent\"><img src=\"https://colab.research.google.com/assets/colab-badge.svg\" alt=\"Open In Colab\"/></a>"
      ]
    },
    {
      "cell_type": "code",
      "execution_count": 1,
      "metadata": {
        "colab": {
          "base_uri": "https://localhost:8080/",
          "height": 35
        },
        "id": "H3kQ5yxoclhk",
        "outputId": "d01cdf55-ccb9-4e0b-ec2e-264837ee9848"
      },
      "outputs": [
        {
          "output_type": "execute_result",
          "data": {
            "text/plain": [
              "'sistema de clasificacion ABC '"
            ],
            "application/vnd.google.colaboratory.intrinsic+json": {
              "type": "string"
            }
          },
          "metadata": {},
          "execution_count": 1
        }
      ],
      "source": [
        "\"\"\"periodo único (1) \"\"\"\n",
        "# P<=Cu/(Co+Cu)\n",
        "\"\"\"modelo de varios períodos\"\"\"\n",
        "\"\"\" a) modelo de cant. de pedido fija (2) \"\"\" \n",
        "# TC = DC + S*(D/Q) + H*(Q/2)\n",
        "# EOQ: d(TC)/dQ -> Qopt = [raiz]((2*D*S)/H)\n",
        "# punto de recarga/reorden = R = dprom*L\n",
        "# caso especial \\/\n",
        "# pto_reorden + desv_estan + prob_servicio: \n",
        "# R = dprom*L + z*(sigma_l)\n",
        "\"\"\" b) modelo de periodo de tiempo fijo (3) \"\"\"\n",
        "# q = demanda_promedio + stock_de_seguridad(ss) - inventario_disponible\n",
        "# q = dprom*(T+L) + Z*(sigma_t+l) - I\n",
        "# qmax = q + d*T\n",
        "\"\"\" c) modelo de precio descontado \"\"\"\n",
        "# EOQ: H->iC \n",
        "# Qopt = [raiz]((2*D*S)/\"iC\")\n",
        "# i: percentage of unit cost attributed to carrying inventory\n",
        "# C: cost_per_unit \n",
        "# se comparan los EOQ pero con diferente C(cost per unit)\n",
        "# se obtienen distintos Qopt \n",
        "# se calcula el TC(line 5) pero con sus respectivos \"C\" y \"Qopt\"\n",
        "\"\"\"miscellaneous systems \"\"\"\n",
        "\"\"\"sistema de clasificacion ABC \"\"\"\n",
        "# D, sigma, L, S, H, P, R?  "
      ]
    },
    {
      "cell_type": "code",
      "source": [
        "from numpy.lib.function_base import rot90\n",
        "import math\n",
        "from scipy.stats import norm\n",
        "\n",
        "def calcular_cantidad_optima(g,c,go,dprom,sigma):\n",
        "    Cu=g-c\n",
        "    Co=c-go\n",
        "    P=Cu/(Co+Cu)\n",
        "    Z = norm.ppf(P)\n",
        "    q = dprom + Z*sigma\n",
        "    print(Cu,Co,P,Z,q)\n",
        "    return round(q, 2)\n",
        "\n",
        "def cantidad_optima(D,S,H):\n",
        "    Qopt=math.sqrt((2*D*S)/H)\n",
        "    return round(Qopt, 2)\n",
        "\n",
        "def pto_recarga0(d,L):\n",
        "    R0=d*L\n",
        "    return round(R0, 2)\n",
        "def pto_recarga(d,L,P,sigma):\n",
        "    Z = norm.ppf(P)\n",
        "    R=d*L+Z*sigma*math.sqrt(L)\n",
        "    return round(R, 2)\n",
        "\n",
        "def optimal_quantity(P, d, T, L, sigma, I):\n",
        "    # Calcula el valor de Z\n",
        "    Z = norm.ppf(P)\n",
        "    # Calcula la cantidad óptima a pedir\n",
        "    q = d*(T+L) + Z*sigma*math.sqrt(T+L) - I\n",
        "    # Devuelve el resultado\n",
        "    qmax = q + d*T\n",
        "    return round(q, 2)\n",
        "    \n",
        "#def mol_precio_descontado(D,S,i,C):\"\n",
        "    "
      ],
      "metadata": {
        "id": "eQ_up_28ctzY"
      },
      "execution_count": 2,
      "outputs": []
    },
    {
      "cell_type": "code",
      "source": [
        "tip_de_pedido=int(input(\"periodo único: 1; Modelo EOQ: 2; cantidad de periodo fijo: 3 \"))\n",
        "if tip_de_pedido==1:\n",
        "    # Datos\n",
        "    g = float(input(\"ganancia: \"))\n",
        "    c = float(input(\"costos: \"))\n",
        "    go = float(input(\"ganancia por obsolescencia: \"))\n",
        "    dprom = float(input(\"demanda promedio: \"))\n",
        "    sigma = float(input(\"desviación estandar: \"))\n",
        "    # Calcula la cantidad óptima a pedir\n",
        "    q = calcular_cantidad_optima(g,c,go,dprom,sigma)\n",
        "    # Imprime el resultado\n",
        "    print(\"Debe pedir\", q, \"unidades\")\n",
        "    \n",
        "elif tip_de_pedido==2:\n",
        "    tipo2=int(input(\"caso simple: 1; caso especial: 2 \"))\n",
        "    if tipo2==1:\n",
        "      # Datos\n",
        "      D = float(input(\"Demanda : \"))\n",
        "      S = float(input(\"costo de pedido: \"))\n",
        "      H = float(input(\"costo de existencia: \"))\n",
        "      # Calcula la cantidad óptima a pedir\n",
        "      Qopt = cantidad_optima(D,S,H)\n",
        "      # Imprime el resultado\n",
        "      print(\"Debe pedir\", Qopt, \"unidades\")\n",
        "    else:\n",
        "      D = float(input(\"Demanda : \"))\n",
        "      d = float(input(\"demanda promedio : \"))\n",
        "      S = float(input(\"costo de pedido: \"))\n",
        "      H = float(input(\"costo de existencia: \"))\n",
        "      sigma= float(input(\"desviacion estandar: \"))\n",
        "      P = float(input(\"probabilidad exigida: \"))\n",
        "      L = float(input(\"tiempo de llegada: \"))\n",
        "      # Calcula la cantidad óptima a pedir\n",
        "      Qopt = cantidad_optima(D,S,H)\n",
        "      R = pto_recarga(d,L,P,sigma)\n",
        "      # Imprime el resultado\n",
        "      print(\"Debe pedir\", Qopt, \"unidades,\",\"a una cantidad de \",R,\"unidades.\")\n",
        "elif tip_de_pedido==3:\n",
        "    # Datos\n",
        "    P = float(input(\"probabilidad: \"))\n",
        "    d = float(input(\"demanda diaria: \"))\n",
        "    T = float(input(\"tiempo de revisión: \"))\n",
        "    L = float(input(\"tiempo de llegada: \"))\n",
        "    sigma = float(input(\"desviación estandar: \"))\n",
        "    I = float(input(\"inventario/existencia: \"))\n",
        "\n",
        "    # Calcula la cantidad óptima a pedir\n",
        "    q = optimal_quantity(P, d, T, L, sigma, I)\n",
        "\n",
        "    # Imprime el resultado\n",
        "    print(\"Debe pedir\", q, \"unidades\")\n"
      ],
      "metadata": {
        "id": "Yl2gdxgXcuiR"
      },
      "execution_count": null,
      "outputs": []
    }
  ]
}